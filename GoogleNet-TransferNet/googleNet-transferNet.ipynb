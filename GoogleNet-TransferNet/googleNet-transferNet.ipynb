{
 "cells": [
  {
   "cell_type": "markdown",
   "metadata": {},
   "source": [
    "### Explain the architecture of GoogleNet (Inception) and its significance in the field of deep learning.\n",
    "ans:\n"
   ]
  },
  {
   "cell_type": "markdown",
   "metadata": {},
   "source": [
    "### Discuss the motivation behind the inception modules in GoogleNet. How do they address the limitations of previous architectures.\n",
    "ans:"
   ]
  },
  {
   "cell_type": "markdown",
   "metadata": {},
   "source": [
    "### Explain the concept of transfer learning in deep learning. How does it leverage pre-trained models to improve performance on new tasks or datasets.\n",
    "ans:\n"
   ]
  },
  {
   "cell_type": "markdown",
   "metadata": {},
   "source": [
    "### Discuss the different approaches to transfer learning, including feature extraction and fine-tuning. When is each approach suitable, and what are their advantages and limitations.\n",
    "ans:"
   ]
  },
  {
   "cell_type": "markdown",
   "metadata": {},
   "source": [
    "### Examine the practical applications of transfer learning in various domains, such as computer vision, natural language processing, and healthcare. Provide examples of how transfer learning has been successfully applied in real-world scenarios.\n",
    "ans:\n",
    "\n"
   ]
  }
 ],
 "metadata": {
  "language_info": {
   "name": "python"
  }
 },
 "nbformat": 4,
 "nbformat_minor": 2
}

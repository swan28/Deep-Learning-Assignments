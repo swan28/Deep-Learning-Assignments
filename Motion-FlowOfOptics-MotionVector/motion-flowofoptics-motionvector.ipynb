{
 "cells": [
  {
   "cell_type": "markdown",
   "metadata": {},
   "source": [
    "## 1. Define motion estimation in computer vision and discuss its importance in various application.\n",
    "ans:\n"
   ]
  },
  {
   "cell_type": "markdown",
   "metadata": {},
   "source": [
    "## 2. Discuss the challenges faced in motion estimation, particularly in the presence of occlusions and complex scene dynamics. Propose potential solutions to address these challenges.\n",
    "ans:\n"
   ]
  },
  {
   "cell_type": "markdown",
   "metadata": {},
   "source": [
    "## 3. Explain the concept of optical flow and its role in motion estimation. Discuss common optical flow algorithms and their applications.\n",
    "ans:\n"
   ]
  },
  {
   "cell_type": "markdown",
   "metadata": {},
   "source": [
    "## 4. Define optical flow and explain its significance in computer vision applications.\n",
    "ans:\n"
   ]
  },
  {
   "cell_type": "markdown",
   "metadata": {},
   "source": [
    "## 5.  Describe the concept of motion vectors in video compression and discuss their role in reducing redundancy.\n",
    "ans:\n"
   ]
  }
 ],
 "metadata": {
  "language_info": {
   "name": "python"
  }
 },
 "nbformat": 4,
 "nbformat_minor": 2
}

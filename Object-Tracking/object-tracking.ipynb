{
 "cells": [
  {
   "cell_type": "markdown",
   "metadata": {},
   "source": [
    "### Define Object Tracking and explain its significance in computer vision\n",
    "ans:\n"
   ]
  },
  {
   "cell_type": "markdown",
   "metadata": {},
   "source": [
    "### Describe the challenges involved in object tracking. Provide examples and discuss potential solutions.\n",
    "ans:\n"
   ]
  },
  {
   "cell_type": "markdown",
   "metadata": {},
   "source": [
    "### Explain the difference between online and offline object tracking algorithms. Provide examples of each.\n",
    "ans:\n"
   ]
  },
  {
   "cell_type": "markdown",
   "metadata": {},
   "source": [
    "### Discuss the role of feature selection in object tracking algorithms. Provide examples of commonly used features.\n",
    "ans:\n"
   ]
  },
  {
   "cell_type": "markdown",
   "metadata": {},
   "source": [
    "### Compare and contrast the performance of traditional object tracking algorithms with deep learningbased approaches.\n",
    "ans:\n"
   ]
  }
 ],
 "metadata": {
  "language_info": {
   "name": "python"
  }
 },
 "nbformat": 4,
 "nbformat_minor": 2
}

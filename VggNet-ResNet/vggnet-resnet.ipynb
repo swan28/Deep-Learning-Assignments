{
 "cells": [
  {
   "cell_type": "markdown",
   "metadata": {},
   "source": [
    "### 1 .Explain the architecture of VGGNet and ResNet. Compare and contrast their design principles and key components.\n",
    "ans:\n"
   ]
  },
  {
   "cell_type": "markdown",
   "metadata": {},
   "source": [
    "### 2. Discuss the motivation behind the residual connections in ResNet and the implications for training deep neural networks.\n",
    "ans:\n"
   ]
  },
  {
   "cell_type": "markdown",
   "metadata": {},
   "source": [
    "### 3. Examine the trade-offs between VGGNet and ResNet architectures in terms of computational complexity, memory requirements, and performance.\n",
    "ans:\n"
   ]
  },
  {
   "cell_type": "markdown",
   "metadata": {},
   "source": [
    "### 4. Explain how VGGNet and ResNet architectures have been adapted and applied in transfer learning scenarios. Discuss their effectiveness in fine-tuning pre-trained models on new tasks or datasets.\n",
    "ans:\n"
   ]
  },
  {
   "cell_type": "markdown",
   "metadata": {},
   "source": [
    "### 5. Evaluate the performance of VGGNet and ResNet architectures on standard benchmark datasets such as ImageNet. Compare their accuracy, computational complexity, and memory requirements.\n",
    "ans:\n"
   ]
  }
 ],
 "metadata": {
  "language_info": {
   "name": "python"
  }
 },
 "nbformat": 4,
 "nbformat_minor": 2
}

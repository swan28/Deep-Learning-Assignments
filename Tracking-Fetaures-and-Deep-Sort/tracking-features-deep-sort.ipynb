{
 "cells": [
  {
   "cell_type": "markdown",
   "metadata": {},
   "source": [
    "### 1. Explain the concept of feature-based object tracking. Discuss the importance of feature selection and tracking methods in feature-based tracking algorithms.\n",
    "ans:\n"
   ]
  },
  {
   "cell_type": "markdown",
   "metadata": {},
   "source": [
    "### 2. Discuss the limitations of traditional feature-based object tracking algorithms and the need for robust multi-object tracking systems like Deep SORT.\n",
    "ans:\n"
   ]
  },
  {
   "cell_type": "markdown",
   "metadata": {},
   "source": [
    "### 3. Explain the workflow of Deep SORT for multi-object tracking. Describe the key components and their roles in the tracking process.\n",
    "ans:\n"
   ]
  },
  {
   "cell_type": "markdown",
   "metadata": {},
   "source": [
    "### 4 .Compare and contrast Deep SORT with traditional tracking algorithms such as the Kalman filter and the Hungarian algorithm. Discuss the advantages and limitations of each approach.\n",
    "ans:\n"
   ]
  },
  {
   "cell_type": "markdown",
   "metadata": {},
   "source": [
    "### 5. Discuss potential applications of Deep SORT in real-world scenarios. Provide examples of domains where Deep SORT can be deployed and the benefits it offers.\n",
    "ans:\n",
    "\n"
   ]
  }
 ],
 "metadata": {
  "language_info": {
   "name": "python"
  }
 },
 "nbformat": 4,
 "nbformat_minor": 2
}
